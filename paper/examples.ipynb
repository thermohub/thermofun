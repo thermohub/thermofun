{
 "cells": [
  {
   "cell_type": "code",
   "execution_count": 1,
   "id": "e3da8efc",
   "metadata": {},
   "outputs": [],
   "source": [
    "import thermofun as fun"
   ]
  },
  {
   "cell_type": "code",
   "execution_count": 2,
   "id": "13b94f94",
   "metadata": {},
   "outputs": [],
   "source": [
    "database = fun.Database('aq17-thermofun.json')\n",
    "engine = fun.ThermoEngine(database)"
   ]
  },
  {
   "cell_type": "code",
   "execution_count": 3,
   "id": "f0c85f6e",
   "metadata": {},
   "outputs": [
    {
     "name": "stdout",
     "output_type": "stream",
     "text": [
      "G0 -545301.2878298083 J/mol\n"
     ]
    }
   ],
   "source": [
    "#                                        T(K)   P(Pa)  symbol\n",
    "Ca_ion = engine.thermoPropertiesSubstance(473, 2000e5, 'Ca+2')\n",
    "print(f'G0 {Ca_ion.gibbs_energy.val} J/mol')"
   ]
  },
  {
   "cell_type": "code",
   "execution_count": 4,
   "id": "a36c08e6",
   "metadata": {},
   "outputs": [
    {
     "name": "stdout",
     "output_type": "stream",
     "text": [
      "drS of (Cal = Ca+2 + CO3-2) is -259.12288450418015\n",
      "drG of (Cal = Ca+2 + CO3-2) is 59914.092580924975\n",
      "logK of (Cal = Ca+2 + CO3-2) is -8.988976334909019\n"
     ]
    }
   ],
   "source": [
    "#                                    T(K)   P(Pa)  reaction equation\n",
    "R = engine.thermoPropertiesReaction(348.15, 1e5, 'Calcite = Ca+2 + CO3-2')\n",
    "print(f'drS of (Cal = Ca+2 + CO3-2) is {R.reaction_entropy.val}')\n",
    "print(f'drG of (Cal = Ca+2 + CO3-2) is {R.reaction_gibbs_energy.val}')\n",
    "print(f'logK of (Cal = Ca+2 + CO3-2) is {R.log_equilibrium_constant.val}')"
   ]
  },
  {
   "cell_type": "code",
   "execution_count": 5,
   "id": "717d85a2",
   "metadata": {},
   "outputs": [],
   "source": [
    "batch = fun.ThermoBatch(database)\n",
    "batch.setPropertiesUnits(['temperature', 'pressure'],['degC','bar'])\n",
    "batch.setPressureIncrement(0,0,0)\n",
    "batch.setTemperatureIncrement(0,300, 5)\n",
    "substances = ['Na+', 'Mg+2', 'Ca+2', 'SiO2@']\n",
    "properties = ['heat_capacity_cp','entropy', 'volume']\n",
    "batch.thermoPropertiesSubstance(substances, properties).toCSV('results.csv')"
   ]
  },
  {
   "cell_type": "code",
   "execution_count": null,
   "id": "7721f824",
   "metadata": {},
   "outputs": [],
   "source": []
  }
 ],
 "metadata": {
  "kernelspec": {
   "display_name": "Python 3 (ipykernel)",
   "language": "python",
   "name": "python3"
  },
  "language_info": {
   "codemirror_mode": {
    "name": "ipython",
    "version": 3
   },
   "file_extension": ".py",
   "mimetype": "text/x-python",
   "name": "python",
   "nbconvert_exporter": "python",
   "pygments_lexer": "ipython3",
   "version": "3.7.5"
  },
  "toc": {
   "base_numbering": 1,
   "nav_menu": {},
   "number_sections": false,
   "sideBar": false,
   "skip_h1_title": false,
   "title_cell": "Table of Contents",
   "title_sidebar": "Contents",
   "toc_cell": false,
   "toc_position": {},
   "toc_section_display": false,
   "toc_window_display": false
  }
 },
 "nbformat": 4,
 "nbformat_minor": 5
}
